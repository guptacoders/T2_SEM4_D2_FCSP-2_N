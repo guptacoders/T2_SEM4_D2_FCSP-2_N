{
 "cells": [
  {
   "cell_type": "code",
   "execution_count": 1,
   "metadata": {},
   "outputs": [
    {
     "data": {
      "text/html": [
       "<div>\n",
       "<style scoped>\n",
       "    .dataframe tbody tr th:only-of-type {\n",
       "        vertical-align: middle;\n",
       "    }\n",
       "\n",
       "    .dataframe tbody tr th {\n",
       "        vertical-align: top;\n",
       "    }\n",
       "\n",
       "    .dataframe thead th {\n",
       "        text-align: right;\n",
       "    }\n",
       "</style>\n",
       "<table border=\"1\" class=\"dataframe\">\n",
       "  <thead>\n",
       "    <tr style=\"text-align: right;\">\n",
       "      <th></th>\n",
       "      <th>sr no</th>\n",
       "      <th>Branch</th>\n",
       "      <th>Enrolment No</th>\n",
       "      <th>Name</th>\n",
       "      <th>Roll No</th>\n",
       "      <th>Div</th>\n",
       "      <th>Mentor Name</th>\n",
       "      <th>TEST-1 MARKS</th>\n",
       "      <th>TEST-2 MARKS</th>\n",
       "      <th>TEST-3 MARKS</th>\n",
       "      <th>TEST-4 MARKS</th>\n",
       "    </tr>\n",
       "  </thead>\n",
       "  <tbody>\n",
       "    <tr>\n",
       "      <th>0</th>\n",
       "      <td>1</td>\n",
       "      <td>CE</td>\n",
       "      <td>2.200220e+13</td>\n",
       "      <td>KATHIRIYA VRAJKUMAR ASHVINBHAI</td>\n",
       "      <td>110</td>\n",
       "      <td>A4</td>\n",
       "      <td>UMM</td>\n",
       "      <td>22.5</td>\n",
       "      <td>18.0</td>\n",
       "      <td>22.5</td>\n",
       "      <td>14.5</td>\n",
       "    </tr>\n",
       "    <tr>\n",
       "      <th>1</th>\n",
       "      <td>2</td>\n",
       "      <td>CE</td>\n",
       "      <td>2.300220e+13</td>\n",
       "      <td>AGRAVAT SAHIL RAJARAMBHAI</td>\n",
       "      <td>101</td>\n",
       "      <td>A3</td>\n",
       "      <td>SAS</td>\n",
       "      <td>21.5</td>\n",
       "      <td>20.0</td>\n",
       "      <td>19</td>\n",
       "      <td>14</td>\n",
       "    </tr>\n",
       "    <tr>\n",
       "      <th>2</th>\n",
       "      <td>3</td>\n",
       "      <td>CE</td>\n",
       "      <td>2.300220e+13</td>\n",
       "      <td>BALAR RAGHUBHAI SURESHBHAI</td>\n",
       "      <td>162</td>\n",
       "      <td>A5</td>\n",
       "      <td>KMS</td>\n",
       "      <td>17.0</td>\n",
       "      <td>20.5</td>\n",
       "      <td>19</td>\n",
       "      <td>19</td>\n",
       "    </tr>\n",
       "    <tr>\n",
       "      <th>3</th>\n",
       "      <td>4</td>\n",
       "      <td>CE</td>\n",
       "      <td>2.300220e+13</td>\n",
       "      <td>BALESANA HASSANBHAI YUNUSBHAI</td>\n",
       "      <td>122</td>\n",
       "      <td>A4</td>\n",
       "      <td>UMM</td>\n",
       "      <td>21.0</td>\n",
       "      <td>17.5</td>\n",
       "      <td>9</td>\n",
       "      <td>22</td>\n",
       "    </tr>\n",
       "    <tr>\n",
       "      <th>4</th>\n",
       "      <td>5</td>\n",
       "      <td>CE</td>\n",
       "      <td>2.300220e+13</td>\n",
       "      <td>BAMBHROLIYA HIT NARESHBHAI</td>\n",
       "      <td>87</td>\n",
       "      <td>A3</td>\n",
       "      <td>UMS</td>\n",
       "      <td>24.0</td>\n",
       "      <td>22.0</td>\n",
       "      <td>21.5</td>\n",
       "      <td>24</td>\n",
       "    </tr>\n",
       "  </tbody>\n",
       "</table>\n",
       "</div>"
      ],
      "text/plain": [
       "   sr no Branch  Enrolment No                            Name  Roll No Div  \\\n",
       "0      1     CE  2.200220e+13  KATHIRIYA VRAJKUMAR ASHVINBHAI      110  A4   \n",
       "1      2     CE  2.300220e+13       AGRAVAT SAHIL RAJARAMBHAI      101  A3   \n",
       "2      3     CE  2.300220e+13      BALAR RAGHUBHAI SURESHBHAI      162  A5   \n",
       "3      4     CE  2.300220e+13   BALESANA HASSANBHAI YUNUSBHAI      122  A4   \n",
       "4      5     CE  2.300220e+13      BAMBHROLIYA HIT NARESHBHAI       87  A3   \n",
       "\n",
       "  Mentor Name  TEST-1 MARKS  TEST-2 MARKS TEST-3 MARKS TEST-4 MARKS  \n",
       "0         UMM          22.5          18.0         22.5         14.5  \n",
       "1         SAS          21.5          20.0           19           14  \n",
       "2         KMS          17.0          20.5           19           19  \n",
       "3         UMM          21.0          17.5            9           22  \n",
       "4         UMS          24.0          22.0         21.5           24  "
      ]
     },
     "execution_count": 1,
     "metadata": {},
     "output_type": "execute_result"
    }
   ],
   "source": [
    "import pandas as pd\n",
    "import numpy as np\n",
    "\n",
    "df = pd.read_csv(\"Marksheet.csv\")\n",
    "df.head()"
   ]
  },
  {
   "cell_type": "code",
   "execution_count": 2,
   "metadata": {},
   "outputs": [],
   "source": [
    "# cleand tahe dataset\n",
    "# perform total marks calculation\n",
    "# assign grade on based total marks\n",
    "# simple linear regression model to predict total marks using only test1 marks \n",
    "# 75 to 84.99 grade b\n",
    "# 65 to 74.99 grade c\n",
    "# 50 to 64.99 grade d\n",
    "# 35 to 49.99 grade e\n",
    "# below 35 grade f\n",
    "# find m & c\n",
    "# also find mean square error and r2_score"
   ]
  },
  {
   "cell_type": "code",
   "execution_count": 3,
   "metadata": {},
   "outputs": [
    {
     "data": {
      "text/plain": [
       "(302, 11)"
      ]
     },
     "execution_count": 3,
     "metadata": {},
     "output_type": "execute_result"
    }
   ],
   "source": [
    "df.shape"
   ]
  },
  {
   "cell_type": "code",
   "execution_count": 4,
   "metadata": {},
   "outputs": [
    {
     "data": {
      "text/plain": [
       "sr no           0\n",
       "Branch          0\n",
       "Enrolment No    0\n",
       "Name            0\n",
       "Roll No         0\n",
       "Div             0\n",
       "Mentor Name     1\n",
       "TEST-1 MARKS    0\n",
       "TEST-2 MARKS    0\n",
       "TEST-3 MARKS    0\n",
       "TEST-4 MARKS    0\n",
       "dtype: int64"
      ]
     },
     "execution_count": 4,
     "metadata": {},
     "output_type": "execute_result"
    }
   ],
   "source": [
    "df.isna().sum()"
   ]
  },
  {
   "cell_type": "code",
   "execution_count": 5,
   "metadata": {},
   "outputs": [],
   "source": [
    "df = df.loc[df[\"TEST-3 MARKS\"]!=\"AB\"]"
   ]
  },
  {
   "cell_type": "code",
   "execution_count": 6,
   "metadata": {},
   "outputs": [],
   "source": [
    "df = df.loc[df[\"TEST-4 MARKS\"]!=\"AB\"]"
   ]
  },
  {
   "cell_type": "code",
   "execution_count": 7,
   "metadata": {},
   "outputs": [],
   "source": [
    "df['TEST-3 MARKS'] = df['TEST-3 MARKS'].astype('float64')"
   ]
  },
  {
   "cell_type": "code",
   "execution_count": 8,
   "metadata": {},
   "outputs": [],
   "source": [
    "df['TEST-4 MARKS'] = df['TEST-4 MARKS'].astype('float64')"
   ]
  },
  {
   "cell_type": "code",
   "execution_count": 9,
   "metadata": {},
   "outputs": [
    {
     "data": {
      "text/html": [
       "<div>\n",
       "<style scoped>\n",
       "    .dataframe tbody tr th:only-of-type {\n",
       "        vertical-align: middle;\n",
       "    }\n",
       "\n",
       "    .dataframe tbody tr th {\n",
       "        vertical-align: top;\n",
       "    }\n",
       "\n",
       "    .dataframe thead th {\n",
       "        text-align: right;\n",
       "    }\n",
       "</style>\n",
       "<table border=\"1\" class=\"dataframe\">\n",
       "  <thead>\n",
       "    <tr style=\"text-align: right;\">\n",
       "      <th></th>\n",
       "      <th>sr no</th>\n",
       "      <th>Branch</th>\n",
       "      <th>Enrolment No</th>\n",
       "      <th>Name</th>\n",
       "      <th>Roll No</th>\n",
       "      <th>Div</th>\n",
       "      <th>Mentor Name</th>\n",
       "      <th>TEST-1 MARKS</th>\n",
       "      <th>TEST-2 MARKS</th>\n",
       "      <th>TEST-3 MARKS</th>\n",
       "      <th>TEST-4 MARKS</th>\n",
       "      <th>Total</th>\n",
       "    </tr>\n",
       "  </thead>\n",
       "  <tbody>\n",
       "    <tr>\n",
       "      <th>0</th>\n",
       "      <td>1</td>\n",
       "      <td>CE</td>\n",
       "      <td>2.200220e+13</td>\n",
       "      <td>KATHIRIYA VRAJKUMAR ASHVINBHAI</td>\n",
       "      <td>110</td>\n",
       "      <td>A4</td>\n",
       "      <td>UMM</td>\n",
       "      <td>22.5</td>\n",
       "      <td>18.0</td>\n",
       "      <td>22.5</td>\n",
       "      <td>14.5</td>\n",
       "      <td>77.5</td>\n",
       "    </tr>\n",
       "    <tr>\n",
       "      <th>1</th>\n",
       "      <td>2</td>\n",
       "      <td>CE</td>\n",
       "      <td>2.300220e+13</td>\n",
       "      <td>AGRAVAT SAHIL RAJARAMBHAI</td>\n",
       "      <td>101</td>\n",
       "      <td>A3</td>\n",
       "      <td>SAS</td>\n",
       "      <td>21.5</td>\n",
       "      <td>20.0</td>\n",
       "      <td>19.0</td>\n",
       "      <td>14.0</td>\n",
       "      <td>74.5</td>\n",
       "    </tr>\n",
       "    <tr>\n",
       "      <th>2</th>\n",
       "      <td>3</td>\n",
       "      <td>CE</td>\n",
       "      <td>2.300220e+13</td>\n",
       "      <td>BALAR RAGHUBHAI SURESHBHAI</td>\n",
       "      <td>162</td>\n",
       "      <td>A5</td>\n",
       "      <td>KMS</td>\n",
       "      <td>17.0</td>\n",
       "      <td>20.5</td>\n",
       "      <td>19.0</td>\n",
       "      <td>19.0</td>\n",
       "      <td>75.5</td>\n",
       "    </tr>\n",
       "    <tr>\n",
       "      <th>3</th>\n",
       "      <td>4</td>\n",
       "      <td>CE</td>\n",
       "      <td>2.300220e+13</td>\n",
       "      <td>BALESANA HASSANBHAI YUNUSBHAI</td>\n",
       "      <td>122</td>\n",
       "      <td>A4</td>\n",
       "      <td>UMM</td>\n",
       "      <td>21.0</td>\n",
       "      <td>17.5</td>\n",
       "      <td>9.0</td>\n",
       "      <td>22.0</td>\n",
       "      <td>69.5</td>\n",
       "    </tr>\n",
       "    <tr>\n",
       "      <th>4</th>\n",
       "      <td>5</td>\n",
       "      <td>CE</td>\n",
       "      <td>2.300220e+13</td>\n",
       "      <td>BAMBHROLIYA HIT NARESHBHAI</td>\n",
       "      <td>87</td>\n",
       "      <td>A3</td>\n",
       "      <td>UMS</td>\n",
       "      <td>24.0</td>\n",
       "      <td>22.0</td>\n",
       "      <td>21.5</td>\n",
       "      <td>24.0</td>\n",
       "      <td>91.5</td>\n",
       "    </tr>\n",
       "  </tbody>\n",
       "</table>\n",
       "</div>"
      ],
      "text/plain": [
       "   sr no Branch  Enrolment No                            Name  Roll No Div  \\\n",
       "0      1     CE  2.200220e+13  KATHIRIYA VRAJKUMAR ASHVINBHAI      110  A4   \n",
       "1      2     CE  2.300220e+13       AGRAVAT SAHIL RAJARAMBHAI      101  A3   \n",
       "2      3     CE  2.300220e+13      BALAR RAGHUBHAI SURESHBHAI      162  A5   \n",
       "3      4     CE  2.300220e+13   BALESANA HASSANBHAI YUNUSBHAI      122  A4   \n",
       "4      5     CE  2.300220e+13      BAMBHROLIYA HIT NARESHBHAI       87  A3   \n",
       "\n",
       "  Mentor Name  TEST-1 MARKS  TEST-2 MARKS  TEST-3 MARKS  TEST-4 MARKS  Total  \n",
       "0         UMM          22.5          18.0          22.5          14.5   77.5  \n",
       "1         SAS          21.5          20.0          19.0          14.0   74.5  \n",
       "2         KMS          17.0          20.5          19.0          19.0   75.5  \n",
       "3         UMM          21.0          17.5           9.0          22.0   69.5  \n",
       "4         UMS          24.0          22.0          21.5          24.0   91.5  "
      ]
     },
     "execution_count": 9,
     "metadata": {},
     "output_type": "execute_result"
    }
   ],
   "source": [
    "df[\"Total\"] = df[\"TEST-1 MARKS\"] + df[\"TEST-2 MARKS\"] + df[\"TEST-3 MARKS\"] + df[\"TEST-4 MARKS\"]\n",
    "df.head()"
   ]
  },
  {
   "cell_type": "code",
   "execution_count": 10,
   "metadata": {},
   "outputs": [],
   "source": [
    "df[\"Grade\"] = np.where(df['Total']>85,'A',np.where(df['Total'] >= 75,'B',\n",
    "                                                  np.where(df['Total'] >= 65,'C',\n",
    "                                                          np.where(df['Total'] >= 50,'D',\n",
    "                                                                  np.where(df['Total'] >= 35,'E','F')))))"
   ]
  },
  {
   "cell_type": "code",
   "execution_count": 11,
   "metadata": {},
   "outputs": [
    {
     "data": {
      "text/html": [
       "<div>\n",
       "<style scoped>\n",
       "    .dataframe tbody tr th:only-of-type {\n",
       "        vertical-align: middle;\n",
       "    }\n",
       "\n",
       "    .dataframe tbody tr th {\n",
       "        vertical-align: top;\n",
       "    }\n",
       "\n",
       "    .dataframe thead th {\n",
       "        text-align: right;\n",
       "    }\n",
       "</style>\n",
       "<table border=\"1\" class=\"dataframe\">\n",
       "  <thead>\n",
       "    <tr style=\"text-align: right;\">\n",
       "      <th></th>\n",
       "      <th>sr no</th>\n",
       "      <th>Branch</th>\n",
       "      <th>Enrolment No</th>\n",
       "      <th>Name</th>\n",
       "      <th>Roll No</th>\n",
       "      <th>Div</th>\n",
       "      <th>Mentor Name</th>\n",
       "      <th>TEST-1 MARKS</th>\n",
       "      <th>TEST-2 MARKS</th>\n",
       "      <th>TEST-3 MARKS</th>\n",
       "      <th>TEST-4 MARKS</th>\n",
       "      <th>Total</th>\n",
       "      <th>Grade</th>\n",
       "    </tr>\n",
       "  </thead>\n",
       "  <tbody>\n",
       "    <tr>\n",
       "      <th>0</th>\n",
       "      <td>1</td>\n",
       "      <td>CE</td>\n",
       "      <td>2.200220e+13</td>\n",
       "      <td>KATHIRIYA VRAJKUMAR ASHVINBHAI</td>\n",
       "      <td>110</td>\n",
       "      <td>A4</td>\n",
       "      <td>UMM</td>\n",
       "      <td>22.5</td>\n",
       "      <td>18.0</td>\n",
       "      <td>22.5</td>\n",
       "      <td>14.5</td>\n",
       "      <td>77.5</td>\n",
       "      <td>B</td>\n",
       "    </tr>\n",
       "    <tr>\n",
       "      <th>1</th>\n",
       "      <td>2</td>\n",
       "      <td>CE</td>\n",
       "      <td>2.300220e+13</td>\n",
       "      <td>AGRAVAT SAHIL RAJARAMBHAI</td>\n",
       "      <td>101</td>\n",
       "      <td>A3</td>\n",
       "      <td>SAS</td>\n",
       "      <td>21.5</td>\n",
       "      <td>20.0</td>\n",
       "      <td>19.0</td>\n",
       "      <td>14.0</td>\n",
       "      <td>74.5</td>\n",
       "      <td>C</td>\n",
       "    </tr>\n",
       "    <tr>\n",
       "      <th>2</th>\n",
       "      <td>3</td>\n",
       "      <td>CE</td>\n",
       "      <td>2.300220e+13</td>\n",
       "      <td>BALAR RAGHUBHAI SURESHBHAI</td>\n",
       "      <td>162</td>\n",
       "      <td>A5</td>\n",
       "      <td>KMS</td>\n",
       "      <td>17.0</td>\n",
       "      <td>20.5</td>\n",
       "      <td>19.0</td>\n",
       "      <td>19.0</td>\n",
       "      <td>75.5</td>\n",
       "      <td>B</td>\n",
       "    </tr>\n",
       "    <tr>\n",
       "      <th>3</th>\n",
       "      <td>4</td>\n",
       "      <td>CE</td>\n",
       "      <td>2.300220e+13</td>\n",
       "      <td>BALESANA HASSANBHAI YUNUSBHAI</td>\n",
       "      <td>122</td>\n",
       "      <td>A4</td>\n",
       "      <td>UMM</td>\n",
       "      <td>21.0</td>\n",
       "      <td>17.5</td>\n",
       "      <td>9.0</td>\n",
       "      <td>22.0</td>\n",
       "      <td>69.5</td>\n",
       "      <td>C</td>\n",
       "    </tr>\n",
       "    <tr>\n",
       "      <th>4</th>\n",
       "      <td>5</td>\n",
       "      <td>CE</td>\n",
       "      <td>2.300220e+13</td>\n",
       "      <td>BAMBHROLIYA HIT NARESHBHAI</td>\n",
       "      <td>87</td>\n",
       "      <td>A3</td>\n",
       "      <td>UMS</td>\n",
       "      <td>24.0</td>\n",
       "      <td>22.0</td>\n",
       "      <td>21.5</td>\n",
       "      <td>24.0</td>\n",
       "      <td>91.5</td>\n",
       "      <td>A</td>\n",
       "    </tr>\n",
       "  </tbody>\n",
       "</table>\n",
       "</div>"
      ],
      "text/plain": [
       "   sr no Branch  Enrolment No                            Name  Roll No Div  \\\n",
       "0      1     CE  2.200220e+13  KATHIRIYA VRAJKUMAR ASHVINBHAI      110  A4   \n",
       "1      2     CE  2.300220e+13       AGRAVAT SAHIL RAJARAMBHAI      101  A3   \n",
       "2      3     CE  2.300220e+13      BALAR RAGHUBHAI SURESHBHAI      162  A5   \n",
       "3      4     CE  2.300220e+13   BALESANA HASSANBHAI YUNUSBHAI      122  A4   \n",
       "4      5     CE  2.300220e+13      BAMBHROLIYA HIT NARESHBHAI       87  A3   \n",
       "\n",
       "  Mentor Name  TEST-1 MARKS  TEST-2 MARKS  TEST-3 MARKS  TEST-4 MARKS  Total  \\\n",
       "0         UMM          22.5          18.0          22.5          14.5   77.5   \n",
       "1         SAS          21.5          20.0          19.0          14.0   74.5   \n",
       "2         KMS          17.0          20.5          19.0          19.0   75.5   \n",
       "3         UMM          21.0          17.5           9.0          22.0   69.5   \n",
       "4         UMS          24.0          22.0          21.5          24.0   91.5   \n",
       "\n",
       "  Grade  \n",
       "0     B  \n",
       "1     C  \n",
       "2     B  \n",
       "3     C  \n",
       "4     A  "
      ]
     },
     "execution_count": 11,
     "metadata": {},
     "output_type": "execute_result"
    }
   ],
   "source": [
    "df.head()"
   ]
  },
  {
   "cell_type": "code",
   "execution_count": 12,
   "metadata": {},
   "outputs": [],
   "source": [
    "x = df[[\"TEST-1 MARKS\"]]\n",
    "y = df[[\"Total\"]]"
   ]
  },
  {
   "cell_type": "code",
   "execution_count": 13,
   "metadata": {},
   "outputs": [],
   "source": [
    "from sklearn.model_selection import train_test_split\n",
    "x_train , x_test , y_train , y_test = train_test_split(x,y,test_size=0.2,random_state=42)"
   ]
  },
  {
   "cell_type": "code",
   "execution_count": 14,
   "metadata": {},
   "outputs": [],
   "source": [
    "from sklearn.linear_model import LinearRegression\n",
    "lr=LinearRegression()"
   ]
  },
  {
   "cell_type": "code",
   "execution_count": 15,
   "metadata": {},
   "outputs": [
    {
     "data": {
      "text/plain": [
       "LinearRegression()"
      ]
     },
     "execution_count": 15,
     "metadata": {},
     "output_type": "execute_result"
    }
   ],
   "source": [
    "lr.fit(x_train,y_train)"
   ]
  },
  {
   "cell_type": "code",
   "execution_count": 16,
   "metadata": {},
   "outputs": [
    {
     "name": "stdout",
     "output_type": "stream",
     "text": [
      "[[3.53223839]]\n"
     ]
    }
   ],
   "source": [
    "m = lr.coef_\n",
    "print(m)"
   ]
  },
  {
   "cell_type": "code",
   "execution_count": 17,
   "metadata": {},
   "outputs": [
    {
     "name": "stdout",
     "output_type": "stream",
     "text": [
      "[-0.02429667]\n"
     ]
    }
   ],
   "source": [
    "c = lr.intercept_\n",
    "print(c)"
   ]
  },
  {
   "cell_type": "code",
   "execution_count": 18,
   "metadata": {},
   "outputs": [
    {
     "name": "stdout",
     "output_type": "stream",
     "text": [
      "[[56.49151752]\n",
      " [84.74942462]\n",
      " [82.98330542]\n",
      " [84.74942462]\n",
      " [75.91882865]\n",
      " [70.62047107]\n",
      " [81.21718623]\n",
      " [82.98330542]\n",
      " [77.68494784]\n",
      " [74.15270946]\n",
      " [63.5559943 ]\n",
      " [77.68494784]\n",
      " [75.91882865]\n",
      " [72.38659026]\n",
      " [88.281663  ]\n",
      " [61.7898751 ]\n",
      " [82.98330542]\n",
      " [68.85435188]\n",
      " [81.21718623]\n",
      " [56.49151752]\n",
      " [81.21718623]\n",
      " [77.68494784]\n",
      " [86.51554381]\n",
      " [81.21718623]\n",
      " [79.45106704]\n",
      " [82.98330542]\n",
      " [51.19315994]\n",
      " [82.98330542]\n",
      " [47.66092155]\n",
      " [77.68494784]\n",
      " [60.02375591]\n",
      " [81.21718623]\n",
      " [75.91882865]\n",
      " [52.95927913]\n",
      " [84.74942462]\n",
      " [60.02375591]\n",
      " [67.08823268]\n",
      " [74.15270946]\n",
      " [77.68494784]\n",
      " [81.21718623]\n",
      " [84.74942462]\n",
      " [24.70137204]\n",
      " [63.5559943 ]\n",
      " [63.5559943 ]\n",
      " [74.15270946]\n",
      " [70.62047107]\n",
      " [72.38659026]\n",
      " [72.38659026]\n",
      " [52.95927913]\n",
      " [42.36256397]\n",
      " [79.45106704]\n",
      " [70.62047107]\n",
      " [77.68494784]\n",
      " [86.51554381]\n",
      " [77.68494784]\n",
      " [77.68494784]\n",
      " [28.23361043]\n",
      " [49.42704075]\n",
      " [56.49151752]\n",
      " [75.91882865]]\n"
     ]
    }
   ],
   "source": [
    "y_pred = lr.predict(x_test)\n",
    "print(y_pred)"
   ]
  },
  {
   "cell_type": "code",
   "execution_count": 23,
   "metadata": {},
   "outputs": [
    {
     "name": "stdout",
     "output_type": "stream",
     "text": [
      "MSE: 103.66990257531208\n",
      "R2-Score: 0.6400451286845531\n"
     ]
    }
   ],
   "source": [
    "from sklearn.metrics import mean_squared_error,r2_score\n",
    "print(\"MSE:\",mean_squared_error(y_test, y_pred))\n",
    "print(\"R2-Score:\",r2_score(y_test, y_pred))"
   ]
  },
  {
   "cell_type": "markdown",
   "metadata": {},
   "source": [
    "# Polynomial Linear Regression"
   ]
  },
  {
   "cell_type": "code",
   "execution_count": 28,
   "metadata": {},
   "outputs": [
    {
     "data": {
      "text/html": [
       "<div>\n",
       "<style scoped>\n",
       "    .dataframe tbody tr th:only-of-type {\n",
       "        vertical-align: middle;\n",
       "    }\n",
       "\n",
       "    .dataframe tbody tr th {\n",
       "        vertical-align: top;\n",
       "    }\n",
       "\n",
       "    .dataframe thead th {\n",
       "        text-align: right;\n",
       "    }\n",
       "</style>\n",
       "<table border=\"1\" class=\"dataframe\">\n",
       "  <thead>\n",
       "    <tr style=\"text-align: right;\">\n",
       "      <th></th>\n",
       "      <th>sno</th>\n",
       "      <th>Temperature</th>\n",
       "      <th>Pressure</th>\n",
       "    </tr>\n",
       "  </thead>\n",
       "  <tbody>\n",
       "    <tr>\n",
       "      <th>0</th>\n",
       "      <td>1</td>\n",
       "      <td>0</td>\n",
       "      <td>0.0002</td>\n",
       "    </tr>\n",
       "    <tr>\n",
       "      <th>1</th>\n",
       "      <td>2</td>\n",
       "      <td>20</td>\n",
       "      <td>0.0012</td>\n",
       "    </tr>\n",
       "    <tr>\n",
       "      <th>2</th>\n",
       "      <td>3</td>\n",
       "      <td>40</td>\n",
       "      <td>0.0060</td>\n",
       "    </tr>\n",
       "    <tr>\n",
       "      <th>3</th>\n",
       "      <td>4</td>\n",
       "      <td>60</td>\n",
       "      <td>0.0300</td>\n",
       "    </tr>\n",
       "    <tr>\n",
       "      <th>4</th>\n",
       "      <td>5</td>\n",
       "      <td>80</td>\n",
       "      <td>0.0900</td>\n",
       "    </tr>\n",
       "  </tbody>\n",
       "</table>\n",
       "</div>"
      ],
      "text/plain": [
       "   sno  Temperature  Pressure\n",
       "0    1            0    0.0002\n",
       "1    2           20    0.0012\n",
       "2    3           40    0.0060\n",
       "3    4           60    0.0300\n",
       "4    5           80    0.0900"
      ]
     },
     "execution_count": 28,
     "metadata": {},
     "output_type": "execute_result"
    }
   ],
   "source": [
    "import pandas as pd\n",
    "import numpy as np\n",
    "import matplotlib.pyplot as plt\n",
    "\n",
    "\n",
    "df = pd.read_csv(\"polylinearregression.csv\")\n",
    "df.head()"
   ]
  },
  {
   "cell_type": "code",
   "execution_count": 29,
   "metadata": {},
   "outputs": [],
   "source": [
    "x=df[[\"Temperature\"]]\n",
    "y=df[[\"Pressure\"]]"
   ]
  },
  {
   "cell_type": "code",
   "execution_count": 33,
   "metadata": {},
   "outputs": [],
   "source": [
    "from sklearn.linear_model import LinearRegression\n",
    "from sklearn.preprocessing import PolynomialFeatures\n",
    "\n",
    "poly = PolynomialFeatures(degree = 3)\n",
    "x_Poly = poly.fit_transform(x)"
   ]
  },
  {
   "cell_type": "code",
   "execution_count": 35,
   "metadata": {},
   "outputs": [
    {
     "name": "stdout",
     "output_type": "stream",
     "text": [
      "[[1.00e+00 0.00e+00 0.00e+00 0.00e+00]\n",
      " [1.00e+00 2.00e+01 4.00e+02 8.00e+03]\n",
      " [1.00e+00 4.00e+01 1.60e+03 6.40e+04]\n",
      " [1.00e+00 6.00e+01 3.60e+03 2.16e+05]\n",
      " [1.00e+00 8.00e+01 6.40e+03 5.12e+05]\n",
      " [1.00e+00 1.00e+02 1.00e+04 1.00e+06]]\n"
     ]
    }
   ],
   "source": [
    "print(x_Poly)"
   ]
  },
  {
   "cell_type": "code",
   "execution_count": 36,
   "metadata": {},
   "outputs": [
    {
     "data": {
      "text/plain": [
       "LinearRegression()"
      ]
     },
     "execution_count": 36,
     "metadata": {},
     "output_type": "execute_result"
    }
   ],
   "source": [
    "lr = LinearRegression()\n",
    "lr.fit(x_Poly, y)"
   ]
  },
  {
   "cell_type": "code",
   "execution_count": 38,
   "metadata": {},
   "outputs": [
    {
     "data": {
      "image/png": "[encoded data removed]",
      "text/plain": [
       "<Figure size 432x288 with 1 Axes>"
      ]
     },
     "metadata": {
      "needs_background": "light"
     },
     "output_type": "display_data"
    }
   ],
   "source": [
    "plt.scatter(x,y,color='blue')\n",
    "plt.plot(x,y,color='red')\n",
    "plt.title('Polynomial Regression')\n",
    "plt.xlabel('Temperature')\n",
    "plt.ylabel('Pressure')\n",
    "plt.show()"
   ]
  },
  {
   "cell_type": "markdown",
   "metadata": {},
   "source": [
    "# PB-198"
   ]
  },
  {
   "cell_type": "code",
   "execution_count": 40,
   "metadata": {},
   "outputs": [
    {
     "data": {
      "text/html": [
       "<div>\n",
       "<style scoped>\n",
       "    .dataframe tbody tr th:only-of-type {\n",
       "        vertical-align: middle;\n",
       "    }\n",
       "\n",
       "    .dataframe tbody tr th {\n",
       "        vertical-align: top;\n",
       "    }\n",
       "\n",
       "    .dataframe thead th {\n",
       "        text-align: right;\n",
       "    }\n",
       "</style>\n",
       "<table border=\"1\" class=\"dataframe\">\n",
       "  <thead>\n",
       "    <tr style=\"text-align: right;\">\n",
       "      <th></th>\n",
       "      <th>Position</th>\n",
       "      <th>Level</th>\n",
       "      <th>Salary</th>\n",
       "    </tr>\n",
       "  </thead>\n",
       "  <tbody>\n",
       "    <tr>\n",
       "      <th>0</th>\n",
       "      <td>Business Analyst</td>\n",
       "      <td>1</td>\n",
       "      <td>45000</td>\n",
       "    </tr>\n",
       "    <tr>\n",
       "      <th>1</th>\n",
       "      <td>Junior Consultant</td>\n",
       "      <td>2</td>\n",
       "      <td>50000</td>\n",
       "    </tr>\n",
       "    <tr>\n",
       "      <th>2</th>\n",
       "      <td>Senior Consultant</td>\n",
       "      <td>3</td>\n",
       "      <td>60000</td>\n",
       "    </tr>\n",
       "    <tr>\n",
       "      <th>3</th>\n",
       "      <td>Manager</td>\n",
       "      <td>4</td>\n",
       "      <td>80000</td>\n",
       "    </tr>\n",
       "    <tr>\n",
       "      <th>4</th>\n",
       "      <td>Country Manager</td>\n",
       "      <td>5</td>\n",
       "      <td>110000</td>\n",
       "    </tr>\n",
       "  </tbody>\n",
       "</table>\n",
       "</div>"
      ],
      "text/plain": [
       "            Position  Level  Salary\n",
       "0   Business Analyst      1   45000\n",
       "1  Junior Consultant      2   50000\n",
       "2  Senior Consultant      3   60000\n",
       "3            Manager      4   80000\n",
       "4    Country Manager      5  110000"
      ]
     },
     "execution_count": 40,
     "metadata": {},
     "output_type": "execute_result"
    }
   ],
   "source": [
    "df = pd.read_csv(\"Position_Salaries.csv\")\n",
    "df.head()"
   ]
  },
  {
   "cell_type": "code",
   "execution_count": 41,
   "metadata": {},
   "outputs": [],
   "source": [
    "x=df[[\"Level\"]]\n",
    "y=df[[\"Salary\"]]"
   ]
  },
  {
   "cell_type": "code",
   "execution_count": 42,
   "metadata": {},
   "outputs": [],
   "source": [
    "from sklearn.linear_model import LinearRegression\n",
    "from sklearn.preprocessing import PolynomialFeatures\n",
    "\n",
    "poly = PolynomialFeatures(degree = 3)\n",
    "x_Poly = poly.fit_transform(x)"
   ]
  },
  {
   "cell_type": "code",
   "execution_count": 43,
   "metadata": {},
   "outputs": [
    {
     "data": {
      "text/plain": [
       "LinearRegression()"
      ]
     },
     "execution_count": 43,
     "metadata": {},
     "output_type": "execute_result"
    }
   ],
   "source": [
    "lr = LinearRegression()\n",
    "lr.fit(x_Poly, y)"
   ]
  },
  {
   "cell_type": "code",
   "execution_count": 48,
   "metadata": {},
   "outputs": [
    {
     "name": "stdout",
     "output_type": "stream",
     "text": [
      "[[133259.46969697]]\n"
     ]
    }
   ],
   "source": [
    "p= lr.predict(poly.fit_transform([[6.5]]))\n",
    "print(p)"
   ]
  },
  {
   "cell_type": "code",
   "execution_count": 45,
   "metadata": {},
   "outputs": [
    {
     "data": {
      "image/png": "[encoded data removed]",
      "text/plain": [
       "<Figure size 432x288 with 1 Axes>"
      ]
     },
     "metadata": {
      "needs_background": "light"
     },
     "output_type": "display_data"
    }
   ],
   "source": [
    "plt.scatter(x,y,color='blue')\n",
    "plt.plot(x,y,color='red')\n",
    "plt.title('Polynomial Regression')\n",
    "plt.xlabel('Level')\n",
    "plt.ylabel('Salary')\n",
    "plt.show()"
   ]
  },
  {
   "cell_type": "markdown",
   "metadata": {},
   "source": [
    "# PB-199"
   ]
  },
  {
   "cell_type": "code",
   "execution_count": 63,
   "metadata": {},
   "outputs": [
    {
     "name": "stdout",
     "output_type": "stream",
     "text": [
      "m: [ 0.          3.38954229 -0.03098624  0.00447358]\n",
      "c: -3.195869990226825\n"
     ]
    }
   ],
   "source": [
    "# For x = np.arange(0, 30) and y = np.array([3, 4, 5, 7, 10, 8, 9, 10, 10, 23, 27, 44, 50, 63, 67, 60, 62, 70, 75, 88, 81, 87, 95, 100, 108, \n",
    "# 135, 151, 160, 169, 179]), apply polynomial regression using scikit learn library and calculate  R squared, coeficient and intercept. \n",
    "# Predict the y values for x = np.arange(5). (Don't split data for training/testing)\n",
    "\n",
    "x = np.arange(0, 30).reshape(-1,1)\n",
    "y = np.array([3, 4, 5, 7, 10, 8, 9, 10, 10, 23, 27, 44, 50, 63, 67, 60, 62, 70, 75, 88, 81, 87, 95, 100, 108,\n",
    "135, 151, 160, 169, 179])\n",
    "\n",
    "from sklearn.linear_model import LinearRegression\n",
    "from sklearn.preprocessing import PolynomialFeatures\n",
    "\n",
    "poly = PolynomialFeatures(degree = 3)\n",
    "x_Poly = poly.fit_transform(x)\n",
    "\n",
    "lr = LinearRegression()\n",
    "lr.fit(x_Poly, y)\n",
    "\n",
    "m = lr.coef_\n",
    "print(\"m:\",m)\n",
    "\n",
    "c = lr.intercept_\n",
    "print(\"c:\",c)\n",
    "\n",
    "\n"
   ]
  },
  {
   "cell_type": "code",
   "execution_count": 60,
   "metadata": {},
   "outputs": [
    {
     "data": {
      "image/png": "[encoded data removed]",
      "text/plain": [
       "<Figure size 432x288 with 1 Axes>"
      ]
     },
     "metadata": {
      "needs_background": "light"
     },
     "output_type": "display_data"
    }
   ],
   "source": [
    "plt.scatter(x,y,color='blue')\n",
    "plt.plot(x,y,color='red')\n",
    "plt.title('Polynomial Regression')\n",
    "plt.show()"
   ]
  },
  {
   "cell_type": "code",
   "execution_count": null,
   "metadata": {},
   "outputs": [],
   "source": []
  }
 ],
 "metadata": {
  "kernelspec": {
   "display_name": "Python 3",
   "language": "python",
   "name": "python3"
  },
  "language_info": {
   "codemirror_mode": {
    "name": "ipython",
    "version": 3
   },
   "file_extension": ".py",
   "mimetype": "text/x-python",
   "name": "python",
   "nbconvert_exporter": "python",
   "pygments_lexer": "ipython3",
   "version": "3.8.5"
  }
 },
 "nbformat": 4,
 "nbformat_minor": 4
}
